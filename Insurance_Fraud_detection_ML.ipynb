{
  "nbformat": 4,
  "nbformat_minor": 0,
  "metadata": {
    "colab": {
      "name": "Insurance_Fraud_detection_SVM.ipynb",
      "provenance": [],
      "collapsed_sections": []
    },
    "kernelspec": {
      "name": "python3",
      "display_name": "Python 3"
    },
    "language_info": {
      "name": "python"
    }
  },
  "cells": [
    {
      "cell_type": "markdown",
      "metadata": {
        "id": "bDlcGn80buOu"
      },
      "source": [
        "### **Insurance Fraud detection using Traditional Algorithoms**"
      ]
    },
    {
      "cell_type": "code",
      "metadata": {
        "id": "Wx_6llfbdESZ"
      },
      "source": [
        "# neccessary imports\n",
        "import pandas as pd\n",
        "import numpy as np\n",
        "import matplotlib.pyplot as plt\n",
        "import seaborn as sns\n",
        "import warnings\n",
        "warnings.filterwarnings('ignore')"
      ],
      "execution_count": 1,
      "outputs": []
    },
    {
      "cell_type": "code",
      "metadata": {
        "colab": {
          "base_uri": "https://localhost:8080/"
        },
        "id": "L3F6jun5bWee",
        "outputId": "f39ba140-07b3-4d5d-a419-688416e689d4"
      },
      "source": [
        "from google.colab import drive\n",
        "drive.mount('/content/drive/')"
      ],
      "execution_count": 2,
      "outputs": [
        {
          "output_type": "stream",
          "text": [
            "Mounted at /content/drive/\n"
          ],
          "name": "stdout"
        }
      ]
    },
    {
      "cell_type": "code",
      "metadata": {
        "id": "RI50jA3db7Nu"
      },
      "source": [
        "import pickle\n",
        "data=pickle.load( open(\"/content/drive/MyDrive/Google_colab_project/Inseurance_fraud_cleaned_data\", \"rb\" ) )"
      ],
      "execution_count": 3,
      "outputs": []
    },
    {
      "cell_type": "code",
      "metadata": {
        "colab": {
          "base_uri": "https://localhost:8080/",
          "height": 232
        },
        "id": "hNI7Usbeb7Ql",
        "outputId": "eb1af225-590b-46bb-f482-e06b5fb50465"
      },
      "source": [
        "data.head()"
      ],
      "execution_count": 4,
      "outputs": [
        {
          "output_type": "execute_result",
          "data": {
            "text/html": [
              "<div>\n",
              "<style scoped>\n",
              "    .dataframe tbody tr th:only-of-type {\n",
              "        vertical-align: middle;\n",
              "    }\n",
              "\n",
              "    .dataframe tbody tr th {\n",
              "        vertical-align: top;\n",
              "    }\n",
              "\n",
              "    .dataframe thead th {\n",
              "        text-align: right;\n",
              "    }\n",
              "</style>\n",
              "<table border=\"1\" class=\"dataframe\">\n",
              "  <thead>\n",
              "    <tr style=\"text-align: right;\">\n",
              "      <th></th>\n",
              "      <th>months_as_customer</th>\n",
              "      <th>policy_deductable</th>\n",
              "      <th>umbrella_limit</th>\n",
              "      <th>capital-gains</th>\n",
              "      <th>capital-loss</th>\n",
              "      <th>incident_hour_of_the_day</th>\n",
              "      <th>number_of_vehicles_involved</th>\n",
              "      <th>bodily_injuries</th>\n",
              "      <th>witnesses</th>\n",
              "      <th>injury_claim</th>\n",
              "      <th>property_claim</th>\n",
              "      <th>vehicle_claim</th>\n",
              "      <th>policy_csl</th>\n",
              "      <th>insured_sex</th>\n",
              "      <th>insured_education_level</th>\n",
              "      <th>incident_severity</th>\n",
              "      <th>property_damage</th>\n",
              "      <th>police_report_available</th>\n",
              "      <th>fraud_reported</th>\n",
              "      <th>insured_occupation_armed-forces</th>\n",
              "      <th>insured_occupation_craft-repair</th>\n",
              "      <th>insured_occupation_exec-managerial</th>\n",
              "      <th>insured_occupation_farming-fishing</th>\n",
              "      <th>insured_occupation_handlers-cleaners</th>\n",
              "      <th>insured_occupation_machine-op-inspct</th>\n",
              "      <th>insured_occupation_other-service</th>\n",
              "      <th>insured_occupation_priv-house-serv</th>\n",
              "      <th>insured_occupation_prof-specialty</th>\n",
              "      <th>insured_occupation_protective-serv</th>\n",
              "      <th>insured_occupation_sales</th>\n",
              "      <th>insured_occupation_tech-support</th>\n",
              "      <th>insured_occupation_transport-moving</th>\n",
              "      <th>insured_relationship_not-in-family</th>\n",
              "      <th>insured_relationship_other-relative</th>\n",
              "      <th>insured_relationship_own-child</th>\n",
              "      <th>insured_relationship_unmarried</th>\n",
              "      <th>insured_relationship_wife</th>\n",
              "      <th>incident_type_Parked Car</th>\n",
              "      <th>incident_type_Single Vehicle Collision</th>\n",
              "      <th>incident_type_Vehicle Theft</th>\n",
              "      <th>collision_type_Rear Collision</th>\n",
              "      <th>collision_type_Side Collision</th>\n",
              "      <th>authorities_contacted_Fire</th>\n",
              "      <th>authorities_contacted_None</th>\n",
              "      <th>authorities_contacted_Other</th>\n",
              "      <th>authorities_contacted_Police</th>\n",
              "    </tr>\n",
              "  </thead>\n",
              "  <tbody>\n",
              "    <tr>\n",
              "      <th>0</th>\n",
              "      <td>328</td>\n",
              "      <td>1000</td>\n",
              "      <td>0</td>\n",
              "      <td>53300</td>\n",
              "      <td>0</td>\n",
              "      <td>5</td>\n",
              "      <td>1</td>\n",
              "      <td>1</td>\n",
              "      <td>2</td>\n",
              "      <td>6510</td>\n",
              "      <td>13020</td>\n",
              "      <td>52080</td>\n",
              "      <td>2.5</td>\n",
              "      <td>1</td>\n",
              "      <td>6</td>\n",
              "      <td>3</td>\n",
              "      <td>1</td>\n",
              "      <td>1</td>\n",
              "      <td>1</td>\n",
              "      <td>0</td>\n",
              "      <td>1</td>\n",
              "      <td>0</td>\n",
              "      <td>0</td>\n",
              "      <td>0</td>\n",
              "      <td>0</td>\n",
              "      <td>0</td>\n",
              "      <td>0</td>\n",
              "      <td>0</td>\n",
              "      <td>0</td>\n",
              "      <td>0</td>\n",
              "      <td>0</td>\n",
              "      <td>0</td>\n",
              "      <td>0</td>\n",
              "      <td>0</td>\n",
              "      <td>0</td>\n",
              "      <td>0</td>\n",
              "      <td>0</td>\n",
              "      <td>0</td>\n",
              "      <td>1</td>\n",
              "      <td>0</td>\n",
              "      <td>0</td>\n",
              "      <td>1</td>\n",
              "      <td>0</td>\n",
              "      <td>0</td>\n",
              "      <td>0</td>\n",
              "      <td>1</td>\n",
              "    </tr>\n",
              "    <tr>\n",
              "      <th>1</th>\n",
              "      <td>228</td>\n",
              "      <td>2000</td>\n",
              "      <td>5000000</td>\n",
              "      <td>0</td>\n",
              "      <td>0</td>\n",
              "      <td>8</td>\n",
              "      <td>1</td>\n",
              "      <td>0</td>\n",
              "      <td>0</td>\n",
              "      <td>780</td>\n",
              "      <td>780</td>\n",
              "      <td>3510</td>\n",
              "      <td>2.5</td>\n",
              "      <td>1</td>\n",
              "      <td>6</td>\n",
              "      <td>2</td>\n",
              "      <td>0</td>\n",
              "      <td>0</td>\n",
              "      <td>1</td>\n",
              "      <td>0</td>\n",
              "      <td>0</td>\n",
              "      <td>0</td>\n",
              "      <td>0</td>\n",
              "      <td>0</td>\n",
              "      <td>1</td>\n",
              "      <td>0</td>\n",
              "      <td>0</td>\n",
              "      <td>0</td>\n",
              "      <td>0</td>\n",
              "      <td>0</td>\n",
              "      <td>0</td>\n",
              "      <td>0</td>\n",
              "      <td>0</td>\n",
              "      <td>1</td>\n",
              "      <td>0</td>\n",
              "      <td>0</td>\n",
              "      <td>0</td>\n",
              "      <td>0</td>\n",
              "      <td>0</td>\n",
              "      <td>1</td>\n",
              "      <td>1</td>\n",
              "      <td>0</td>\n",
              "      <td>0</td>\n",
              "      <td>0</td>\n",
              "      <td>0</td>\n",
              "      <td>1</td>\n",
              "    </tr>\n",
              "    <tr>\n",
              "      <th>2</th>\n",
              "      <td>134</td>\n",
              "      <td>2000</td>\n",
              "      <td>5000000</td>\n",
              "      <td>35100</td>\n",
              "      <td>0</td>\n",
              "      <td>7</td>\n",
              "      <td>3</td>\n",
              "      <td>2</td>\n",
              "      <td>3</td>\n",
              "      <td>7700</td>\n",
              "      <td>3850</td>\n",
              "      <td>23100</td>\n",
              "      <td>1.0</td>\n",
              "      <td>0</td>\n",
              "      <td>7</td>\n",
              "      <td>2</td>\n",
              "      <td>0</td>\n",
              "      <td>0</td>\n",
              "      <td>0</td>\n",
              "      <td>0</td>\n",
              "      <td>0</td>\n",
              "      <td>0</td>\n",
              "      <td>0</td>\n",
              "      <td>0</td>\n",
              "      <td>0</td>\n",
              "      <td>0</td>\n",
              "      <td>0</td>\n",
              "      <td>0</td>\n",
              "      <td>0</td>\n",
              "      <td>1</td>\n",
              "      <td>0</td>\n",
              "      <td>0</td>\n",
              "      <td>0</td>\n",
              "      <td>0</td>\n",
              "      <td>1</td>\n",
              "      <td>0</td>\n",
              "      <td>0</td>\n",
              "      <td>0</td>\n",
              "      <td>0</td>\n",
              "      <td>0</td>\n",
              "      <td>1</td>\n",
              "      <td>0</td>\n",
              "      <td>0</td>\n",
              "      <td>0</td>\n",
              "      <td>0</td>\n",
              "      <td>1</td>\n",
              "    </tr>\n",
              "    <tr>\n",
              "      <th>3</th>\n",
              "      <td>256</td>\n",
              "      <td>2000</td>\n",
              "      <td>6000000</td>\n",
              "      <td>48900</td>\n",
              "      <td>-62400</td>\n",
              "      <td>5</td>\n",
              "      <td>1</td>\n",
              "      <td>1</td>\n",
              "      <td>2</td>\n",
              "      <td>6340</td>\n",
              "      <td>6340</td>\n",
              "      <td>50720</td>\n",
              "      <td>2.5</td>\n",
              "      <td>0</td>\n",
              "      <td>7</td>\n",
              "      <td>3</td>\n",
              "      <td>0</td>\n",
              "      <td>0</td>\n",
              "      <td>1</td>\n",
              "      <td>1</td>\n",
              "      <td>0</td>\n",
              "      <td>0</td>\n",
              "      <td>0</td>\n",
              "      <td>0</td>\n",
              "      <td>0</td>\n",
              "      <td>0</td>\n",
              "      <td>0</td>\n",
              "      <td>0</td>\n",
              "      <td>0</td>\n",
              "      <td>0</td>\n",
              "      <td>0</td>\n",
              "      <td>0</td>\n",
              "      <td>0</td>\n",
              "      <td>0</td>\n",
              "      <td>0</td>\n",
              "      <td>1</td>\n",
              "      <td>0</td>\n",
              "      <td>0</td>\n",
              "      <td>1</td>\n",
              "      <td>0</td>\n",
              "      <td>0</td>\n",
              "      <td>0</td>\n",
              "      <td>0</td>\n",
              "      <td>0</td>\n",
              "      <td>0</td>\n",
              "      <td>1</td>\n",
              "    </tr>\n",
              "    <tr>\n",
              "      <th>4</th>\n",
              "      <td>228</td>\n",
              "      <td>1000</td>\n",
              "      <td>6000000</td>\n",
              "      <td>66000</td>\n",
              "      <td>-46000</td>\n",
              "      <td>20</td>\n",
              "      <td>1</td>\n",
              "      <td>0</td>\n",
              "      <td>1</td>\n",
              "      <td>1300</td>\n",
              "      <td>650</td>\n",
              "      <td>4550</td>\n",
              "      <td>5.0</td>\n",
              "      <td>1</td>\n",
              "      <td>5</td>\n",
              "      <td>2</td>\n",
              "      <td>0</td>\n",
              "      <td>0</td>\n",
              "      <td>0</td>\n",
              "      <td>0</td>\n",
              "      <td>0</td>\n",
              "      <td>0</td>\n",
              "      <td>0</td>\n",
              "      <td>0</td>\n",
              "      <td>0</td>\n",
              "      <td>0</td>\n",
              "      <td>0</td>\n",
              "      <td>0</td>\n",
              "      <td>0</td>\n",
              "      <td>1</td>\n",
              "      <td>0</td>\n",
              "      <td>0</td>\n",
              "      <td>0</td>\n",
              "      <td>0</td>\n",
              "      <td>0</td>\n",
              "      <td>1</td>\n",
              "      <td>0</td>\n",
              "      <td>0</td>\n",
              "      <td>0</td>\n",
              "      <td>1</td>\n",
              "      <td>1</td>\n",
              "      <td>0</td>\n",
              "      <td>0</td>\n",
              "      <td>1</td>\n",
              "      <td>0</td>\n",
              "      <td>0</td>\n",
              "    </tr>\n",
              "  </tbody>\n",
              "</table>\n",
              "</div>"
            ],
            "text/plain": [
              "   months_as_customer  ...  authorities_contacted_Police\n",
              "0                 328  ...                             1\n",
              "1                 228  ...                             1\n",
              "2                 134  ...                             1\n",
              "3                 256  ...                             1\n",
              "4                 228  ...                             0\n",
              "\n",
              "[5 rows x 46 columns]"
            ]
          },
          "metadata": {
            "tags": []
          },
          "execution_count": 4
        }
      ]
    },
    {
      "cell_type": "markdown",
      "metadata": {
        "id": "LLq59VZLaRS9"
      },
      "source": [
        "### **Train-Test Soliting**"
      ]
    },
    {
      "cell_type": "code",
      "metadata": {
        "id": "N0e1k4jCKlla"
      },
      "source": [
        "X=data.drop(labels='fraud_reported',axis=1)\n",
        "y=data['fraud_reported']"
      ],
      "execution_count": 5,
      "outputs": []
    },
    {
      "cell_type": "code",
      "metadata": {
        "id": "Ez0ZFN-IaA6J"
      },
      "source": [
        "# splitting the data for model training\n",
        "\n",
        "# splitting the data into training and test set\n",
        "from sklearn.model_selection import train_test_split\n",
        "x_train,x_test,y_train,y_test=train_test_split(X,y, random_state=100 )"
      ],
      "execution_count": 6,
      "outputs": []
    },
    {
      "cell_type": "code",
      "metadata": {
        "colab": {
          "base_uri": "https://localhost:8080/"
        },
        "id": "wjtf9IWaLJdn",
        "outputId": "0062284c-a8d9-4104-b17a-fbb5e0c2ad72"
      },
      "source": [
        "print(\"Training dataset Independent Feature Shape\"+\" \"+str(x_train.shape))"
      ],
      "execution_count": 7,
      "outputs": [
        {
          "output_type": "stream",
          "text": [
            "Training dataset Independent Feature Shape (750, 45)\n"
          ],
          "name": "stdout"
        }
      ]
    },
    {
      "cell_type": "markdown",
      "metadata": {
        "id": "EEJAv5y5b4wj"
      },
      "source": [
        "### **Feature Scaling**"
      ]
    },
    {
      "cell_type": "code",
      "metadata": {
        "id": "b3IRw9EBb8yH"
      },
      "source": [
        "num_df=x_train[['months_as_customer', 'policy_deductable', 'umbrella_limit',\n",
        "       'capital-gains', 'capital-loss', 'incident_hour_of_the_day',\n",
        "       'number_of_vehicles_involved', 'bodily_injuries', 'witnesses', 'injury_claim', 'property_claim',\n",
        "       'vehicle_claim']]"
      ],
      "execution_count": 8,
      "outputs": []
    },
    {
      "cell_type": "code",
      "metadata": {
        "colab": {
          "base_uri": "https://localhost:8080/"
        },
        "id": "34kJq5zTcjZS",
        "outputId": "1db90eef-d894-40d0-8bfd-91d7d77dcfe9"
      },
      "source": [
        "num_df.columns\n"
      ],
      "execution_count": 9,
      "outputs": [
        {
          "output_type": "execute_result",
          "data": {
            "text/plain": [
              "Index(['months_as_customer', 'policy_deductable', 'umbrella_limit',\n",
              "       'capital-gains', 'capital-loss', 'incident_hour_of_the_day',\n",
              "       'number_of_vehicles_involved', 'bodily_injuries', 'witnesses',\n",
              "       'injury_claim', 'property_claim', 'vehicle_claim'],\n",
              "      dtype='object')"
            ]
          },
          "metadata": {
            "tags": []
          },
          "execution_count": 9
        }
      ]
    },
    {
      "cell_type": "code",
      "metadata": {
        "id": "SJOgnj1TcvWZ"
      },
      "source": [
        "# Scaling the numeric values in the dataset\n",
        "\n",
        "from sklearn.preprocessing import StandardScaler\n",
        "scaler=StandardScaler()"
      ],
      "execution_count": 10,
      "outputs": []
    },
    {
      "cell_type": "code",
      "metadata": {
        "colab": {
          "base_uri": "https://localhost:8080/"
        },
        "id": "scgcJAX7cvZR",
        "outputId": "20d00ee7-c0cb-4b40-a298-168a67757f0d"
      },
      "source": [
        "scaled_data=scaler.fit_transform(num_df)\n",
        "scaled_num_df= pd.DataFrame(data=scaled_data, columns=num_df.columns,index=x_train.index)\n",
        "print(\"Shape of the Scaled dataset is\"+\" \"+str(scaled_num_df.shape))"
      ],
      "execution_count": 11,
      "outputs": [
        {
          "output_type": "stream",
          "text": [
            "Shape of the Scaled dataset is (750, 12)\n"
          ],
          "name": "stdout"
        }
      ]
    },
    {
      "cell_type": "code",
      "metadata": {
        "colab": {
          "base_uri": "https://localhost:8080/",
          "height": 232
        },
        "id": "av8qbBfJdN_N",
        "outputId": "65283f37-c26c-4e8e-f12e-eb6b37fe0848"
      },
      "source": [
        "scaled_num_df.head()"
      ],
      "execution_count": 12,
      "outputs": [
        {
          "output_type": "execute_result",
          "data": {
            "text/html": [
              "<div>\n",
              "<style scoped>\n",
              "    .dataframe tbody tr th:only-of-type {\n",
              "        vertical-align: middle;\n",
              "    }\n",
              "\n",
              "    .dataframe tbody tr th {\n",
              "        vertical-align: top;\n",
              "    }\n",
              "\n",
              "    .dataframe thead th {\n",
              "        text-align: right;\n",
              "    }\n",
              "</style>\n",
              "<table border=\"1\" class=\"dataframe\">\n",
              "  <thead>\n",
              "    <tr style=\"text-align: right;\">\n",
              "      <th></th>\n",
              "      <th>months_as_customer</th>\n",
              "      <th>policy_deductable</th>\n",
              "      <th>umbrella_limit</th>\n",
              "      <th>capital-gains</th>\n",
              "      <th>capital-loss</th>\n",
              "      <th>incident_hour_of_the_day</th>\n",
              "      <th>number_of_vehicles_involved</th>\n",
              "      <th>bodily_injuries</th>\n",
              "      <th>witnesses</th>\n",
              "      <th>injury_claim</th>\n",
              "      <th>property_claim</th>\n",
              "      <th>vehicle_claim</th>\n",
              "    </tr>\n",
              "  </thead>\n",
              "  <tbody>\n",
              "    <tr>\n",
              "      <th>786</th>\n",
              "      <td>-1.024351</td>\n",
              "      <td>1.413279</td>\n",
              "      <td>-0.4985</td>\n",
              "      <td>0.897575</td>\n",
              "      <td>-1.236489</td>\n",
              "      <td>0.365898</td>\n",
              "      <td>2.158530</td>\n",
              "      <td>-1.188845</td>\n",
              "      <td>-1.330132</td>\n",
              "      <td>0.726329</td>\n",
              "      <td>-0.377743</td>\n",
              "      <td>0.313381</td>\n",
              "    </tr>\n",
              "    <tr>\n",
              "      <th>152</th>\n",
              "      <td>-0.857956</td>\n",
              "      <td>-1.047927</td>\n",
              "      <td>-0.4985</td>\n",
              "      <td>0.231715</td>\n",
              "      <td>-0.635015</td>\n",
              "      <td>1.688066</td>\n",
              "      <td>1.167773</td>\n",
              "      <td>0.019331</td>\n",
              "      <td>1.383192</td>\n",
              "      <td>0.528339</td>\n",
              "      <td>0.549237</td>\n",
              "      <td>0.368218</td>\n",
              "    </tr>\n",
              "    <tr>\n",
              "      <th>925</th>\n",
              "      <td>0.657114</td>\n",
              "      <td>1.413279</td>\n",
              "      <td>-0.4985</td>\n",
              "      <td>-0.916445</td>\n",
              "      <td>-1.378850</td>\n",
              "      <td>-1.103178</td>\n",
              "      <td>-0.813742</td>\n",
              "      <td>1.227507</td>\n",
              "      <td>1.383192</td>\n",
              "      <td>-1.400001</td>\n",
              "      <td>-1.325742</td>\n",
              "      <td>-1.795504</td>\n",
              "    </tr>\n",
              "    <tr>\n",
              "      <th>501</th>\n",
              "      <td>-1.541051</td>\n",
              "      <td>-0.227525</td>\n",
              "      <td>-0.4985</td>\n",
              "      <td>-0.916445</td>\n",
              "      <td>-0.958886</td>\n",
              "      <td>-1.690809</td>\n",
              "      <td>-0.813742</td>\n",
              "      <td>-1.188845</td>\n",
              "      <td>0.478751</td>\n",
              "      <td>0.565462</td>\n",
              "      <td>-0.459720</td>\n",
              "      <td>-0.109649</td>\n",
              "    </tr>\n",
              "    <tr>\n",
              "      <th>920</th>\n",
              "      <td>0.105384</td>\n",
              "      <td>-0.227525</td>\n",
              "      <td>-0.4985</td>\n",
              "      <td>1.160320</td>\n",
              "      <td>-0.595866</td>\n",
              "      <td>0.806621</td>\n",
              "      <td>-0.813742</td>\n",
              "      <td>0.019331</td>\n",
              "      <td>-1.330132</td>\n",
              "      <td>0.169482</td>\n",
              "      <td>-0.661512</td>\n",
              "      <td>-0.250660</td>\n",
              "    </tr>\n",
              "  </tbody>\n",
              "</table>\n",
              "</div>"
            ],
            "text/plain": [
              "     months_as_customer  policy_deductable  ...  property_claim  vehicle_claim\n",
              "786           -1.024351           1.413279  ...       -0.377743       0.313381\n",
              "152           -0.857956          -1.047927  ...        0.549237       0.368218\n",
              "925            0.657114           1.413279  ...       -1.325742      -1.795504\n",
              "501           -1.541051          -0.227525  ...       -0.459720      -0.109649\n",
              "920            0.105384          -0.227525  ...       -0.661512      -0.250660\n",
              "\n",
              "[5 rows x 12 columns]"
            ]
          },
          "metadata": {
            "tags": []
          },
          "execution_count": 12
        }
      ]
    },
    {
      "cell_type": "code",
      "metadata": {
        "id": "kFVLBWq4c0es"
      },
      "source": [
        "x_train.drop(columns=scaled_num_df.columns, inplace=True)"
      ],
      "execution_count": 13,
      "outputs": []
    },
    {
      "cell_type": "code",
      "metadata": {
        "id": "TDuQ87cJc0h_"
      },
      "source": [
        "x_train=pd.concat([scaled_num_df,x_train],axis=1)"
      ],
      "execution_count": 14,
      "outputs": []
    },
    {
      "cell_type": "code",
      "metadata": {
        "colab": {
          "base_uri": "https://localhost:8080/",
          "height": 232
        },
        "id": "2LYv_jdrc0j0",
        "outputId": "5d8dee99-7d31-4034-f5fc-1e0da38b9e72"
      },
      "source": [
        "x_train.head()"
      ],
      "execution_count": 15,
      "outputs": [
        {
          "output_type": "execute_result",
          "data": {
            "text/html": [
              "<div>\n",
              "<style scoped>\n",
              "    .dataframe tbody tr th:only-of-type {\n",
              "        vertical-align: middle;\n",
              "    }\n",
              "\n",
              "    .dataframe tbody tr th {\n",
              "        vertical-align: top;\n",
              "    }\n",
              "\n",
              "    .dataframe thead th {\n",
              "        text-align: right;\n",
              "    }\n",
              "</style>\n",
              "<table border=\"1\" class=\"dataframe\">\n",
              "  <thead>\n",
              "    <tr style=\"text-align: right;\">\n",
              "      <th></th>\n",
              "      <th>months_as_customer</th>\n",
              "      <th>policy_deductable</th>\n",
              "      <th>umbrella_limit</th>\n",
              "      <th>capital-gains</th>\n",
              "      <th>capital-loss</th>\n",
              "      <th>incident_hour_of_the_day</th>\n",
              "      <th>number_of_vehicles_involved</th>\n",
              "      <th>bodily_injuries</th>\n",
              "      <th>witnesses</th>\n",
              "      <th>injury_claim</th>\n",
              "      <th>property_claim</th>\n",
              "      <th>vehicle_claim</th>\n",
              "      <th>policy_csl</th>\n",
              "      <th>insured_sex</th>\n",
              "      <th>insured_education_level</th>\n",
              "      <th>incident_severity</th>\n",
              "      <th>property_damage</th>\n",
              "      <th>police_report_available</th>\n",
              "      <th>insured_occupation_armed-forces</th>\n",
              "      <th>insured_occupation_craft-repair</th>\n",
              "      <th>insured_occupation_exec-managerial</th>\n",
              "      <th>insured_occupation_farming-fishing</th>\n",
              "      <th>insured_occupation_handlers-cleaners</th>\n",
              "      <th>insured_occupation_machine-op-inspct</th>\n",
              "      <th>insured_occupation_other-service</th>\n",
              "      <th>insured_occupation_priv-house-serv</th>\n",
              "      <th>insured_occupation_prof-specialty</th>\n",
              "      <th>insured_occupation_protective-serv</th>\n",
              "      <th>insured_occupation_sales</th>\n",
              "      <th>insured_occupation_tech-support</th>\n",
              "      <th>insured_occupation_transport-moving</th>\n",
              "      <th>insured_relationship_not-in-family</th>\n",
              "      <th>insured_relationship_other-relative</th>\n",
              "      <th>insured_relationship_own-child</th>\n",
              "      <th>insured_relationship_unmarried</th>\n",
              "      <th>insured_relationship_wife</th>\n",
              "      <th>incident_type_Parked Car</th>\n",
              "      <th>incident_type_Single Vehicle Collision</th>\n",
              "      <th>incident_type_Vehicle Theft</th>\n",
              "      <th>collision_type_Rear Collision</th>\n",
              "      <th>collision_type_Side Collision</th>\n",
              "      <th>authorities_contacted_Fire</th>\n",
              "      <th>authorities_contacted_None</th>\n",
              "      <th>authorities_contacted_Other</th>\n",
              "      <th>authorities_contacted_Police</th>\n",
              "    </tr>\n",
              "  </thead>\n",
              "  <tbody>\n",
              "    <tr>\n",
              "      <th>786</th>\n",
              "      <td>-1.024351</td>\n",
              "      <td>1.413279</td>\n",
              "      <td>-0.4985</td>\n",
              "      <td>0.897575</td>\n",
              "      <td>-1.236489</td>\n",
              "      <td>0.365898</td>\n",
              "      <td>2.158530</td>\n",
              "      <td>-1.188845</td>\n",
              "      <td>-1.330132</td>\n",
              "      <td>0.726329</td>\n",
              "      <td>-0.377743</td>\n",
              "      <td>0.313381</td>\n",
              "      <td>5.0</td>\n",
              "      <td>1</td>\n",
              "      <td>3</td>\n",
              "      <td>2</td>\n",
              "      <td>1</td>\n",
              "      <td>0</td>\n",
              "      <td>0</td>\n",
              "      <td>0</td>\n",
              "      <td>0</td>\n",
              "      <td>0</td>\n",
              "      <td>0</td>\n",
              "      <td>0</td>\n",
              "      <td>0</td>\n",
              "      <td>1</td>\n",
              "      <td>0</td>\n",
              "      <td>0</td>\n",
              "      <td>0</td>\n",
              "      <td>0</td>\n",
              "      <td>0</td>\n",
              "      <td>0</td>\n",
              "      <td>0</td>\n",
              "      <td>0</td>\n",
              "      <td>1</td>\n",
              "      <td>0</td>\n",
              "      <td>0</td>\n",
              "      <td>0</td>\n",
              "      <td>0</td>\n",
              "      <td>1</td>\n",
              "      <td>0</td>\n",
              "      <td>1</td>\n",
              "      <td>0</td>\n",
              "      <td>0</td>\n",
              "      <td>0</td>\n",
              "    </tr>\n",
              "    <tr>\n",
              "      <th>152</th>\n",
              "      <td>-0.857956</td>\n",
              "      <td>-1.047927</td>\n",
              "      <td>-0.4985</td>\n",
              "      <td>0.231715</td>\n",
              "      <td>-0.635015</td>\n",
              "      <td>1.688066</td>\n",
              "      <td>1.167773</td>\n",
              "      <td>0.019331</td>\n",
              "      <td>1.383192</td>\n",
              "      <td>0.528339</td>\n",
              "      <td>0.549237</td>\n",
              "      <td>0.368218</td>\n",
              "      <td>2.5</td>\n",
              "      <td>1</td>\n",
              "      <td>2</td>\n",
              "      <td>4</td>\n",
              "      <td>1</td>\n",
              "      <td>1</td>\n",
              "      <td>0</td>\n",
              "      <td>0</td>\n",
              "      <td>1</td>\n",
              "      <td>0</td>\n",
              "      <td>0</td>\n",
              "      <td>0</td>\n",
              "      <td>0</td>\n",
              "      <td>0</td>\n",
              "      <td>0</td>\n",
              "      <td>0</td>\n",
              "      <td>0</td>\n",
              "      <td>0</td>\n",
              "      <td>0</td>\n",
              "      <td>0</td>\n",
              "      <td>0</td>\n",
              "      <td>1</td>\n",
              "      <td>0</td>\n",
              "      <td>0</td>\n",
              "      <td>0</td>\n",
              "      <td>0</td>\n",
              "      <td>0</td>\n",
              "      <td>1</td>\n",
              "      <td>0</td>\n",
              "      <td>0</td>\n",
              "      <td>0</td>\n",
              "      <td>0</td>\n",
              "      <td>1</td>\n",
              "    </tr>\n",
              "    <tr>\n",
              "      <th>925</th>\n",
              "      <td>0.657114</td>\n",
              "      <td>1.413279</td>\n",
              "      <td>-0.4985</td>\n",
              "      <td>-0.916445</td>\n",
              "      <td>-1.378850</td>\n",
              "      <td>-1.103178</td>\n",
              "      <td>-0.813742</td>\n",
              "      <td>1.227507</td>\n",
              "      <td>1.383192</td>\n",
              "      <td>-1.400001</td>\n",
              "      <td>-1.325742</td>\n",
              "      <td>-1.795504</td>\n",
              "      <td>2.5</td>\n",
              "      <td>0</td>\n",
              "      <td>5</td>\n",
              "      <td>2</td>\n",
              "      <td>0</td>\n",
              "      <td>0</td>\n",
              "      <td>0</td>\n",
              "      <td>0</td>\n",
              "      <td>0</td>\n",
              "      <td>0</td>\n",
              "      <td>0</td>\n",
              "      <td>0</td>\n",
              "      <td>0</td>\n",
              "      <td>0</td>\n",
              "      <td>0</td>\n",
              "      <td>0</td>\n",
              "      <td>0</td>\n",
              "      <td>0</td>\n",
              "      <td>0</td>\n",
              "      <td>0</td>\n",
              "      <td>0</td>\n",
              "      <td>0</td>\n",
              "      <td>0</td>\n",
              "      <td>0</td>\n",
              "      <td>0</td>\n",
              "      <td>0</td>\n",
              "      <td>1</td>\n",
              "      <td>1</td>\n",
              "      <td>0</td>\n",
              "      <td>0</td>\n",
              "      <td>0</td>\n",
              "      <td>0</td>\n",
              "      <td>1</td>\n",
              "    </tr>\n",
              "    <tr>\n",
              "      <th>501</th>\n",
              "      <td>-1.541051</td>\n",
              "      <td>-0.227525</td>\n",
              "      <td>-0.4985</td>\n",
              "      <td>-0.916445</td>\n",
              "      <td>-0.958886</td>\n",
              "      <td>-1.690809</td>\n",
              "      <td>-0.813742</td>\n",
              "      <td>-1.188845</td>\n",
              "      <td>0.478751</td>\n",
              "      <td>0.565462</td>\n",
              "      <td>-0.459720</td>\n",
              "      <td>-0.109649</td>\n",
              "      <td>2.5</td>\n",
              "      <td>1</td>\n",
              "      <td>4</td>\n",
              "      <td>3</td>\n",
              "      <td>0</td>\n",
              "      <td>0</td>\n",
              "      <td>0</td>\n",
              "      <td>0</td>\n",
              "      <td>0</td>\n",
              "      <td>0</td>\n",
              "      <td>0</td>\n",
              "      <td>0</td>\n",
              "      <td>0</td>\n",
              "      <td>0</td>\n",
              "      <td>0</td>\n",
              "      <td>0</td>\n",
              "      <td>0</td>\n",
              "      <td>1</td>\n",
              "      <td>0</td>\n",
              "      <td>0</td>\n",
              "      <td>0</td>\n",
              "      <td>0</td>\n",
              "      <td>0</td>\n",
              "      <td>0</td>\n",
              "      <td>0</td>\n",
              "      <td>1</td>\n",
              "      <td>0</td>\n",
              "      <td>0</td>\n",
              "      <td>1</td>\n",
              "      <td>0</td>\n",
              "      <td>0</td>\n",
              "      <td>0</td>\n",
              "      <td>1</td>\n",
              "    </tr>\n",
              "    <tr>\n",
              "      <th>920</th>\n",
              "      <td>0.105384</td>\n",
              "      <td>-0.227525</td>\n",
              "      <td>-0.4985</td>\n",
              "      <td>1.160320</td>\n",
              "      <td>-0.595866</td>\n",
              "      <td>0.806621</td>\n",
              "      <td>-0.813742</td>\n",
              "      <td>0.019331</td>\n",
              "      <td>-1.330132</td>\n",
              "      <td>0.169482</td>\n",
              "      <td>-0.661512</td>\n",
              "      <td>-0.250660</td>\n",
              "      <td>1.0</td>\n",
              "      <td>1</td>\n",
              "      <td>1</td>\n",
              "      <td>4</td>\n",
              "      <td>0</td>\n",
              "      <td>1</td>\n",
              "      <td>0</td>\n",
              "      <td>0</td>\n",
              "      <td>0</td>\n",
              "      <td>0</td>\n",
              "      <td>0</td>\n",
              "      <td>0</td>\n",
              "      <td>0</td>\n",
              "      <td>0</td>\n",
              "      <td>0</td>\n",
              "      <td>0</td>\n",
              "      <td>0</td>\n",
              "      <td>0</td>\n",
              "      <td>1</td>\n",
              "      <td>1</td>\n",
              "      <td>0</td>\n",
              "      <td>0</td>\n",
              "      <td>0</td>\n",
              "      <td>0</td>\n",
              "      <td>0</td>\n",
              "      <td>1</td>\n",
              "      <td>0</td>\n",
              "      <td>1</td>\n",
              "      <td>0</td>\n",
              "      <td>0</td>\n",
              "      <td>0</td>\n",
              "      <td>1</td>\n",
              "      <td>0</td>\n",
              "    </tr>\n",
              "  </tbody>\n",
              "</table>\n",
              "</div>"
            ],
            "text/plain": [
              "     months_as_customer  ...  authorities_contacted_Police\n",
              "786           -1.024351  ...                             0\n",
              "152           -0.857956  ...                             1\n",
              "925            0.657114  ...                             1\n",
              "501           -1.541051  ...                             1\n",
              "920            0.105384  ...                             0\n",
              "\n",
              "[5 rows x 45 columns]"
            ]
          },
          "metadata": {
            "tags": []
          },
          "execution_count": 15
        }
      ]
    },
    {
      "cell_type": "markdown",
      "metadata": {
        "id": "uWORgDh9FMOL"
      },
      "source": [
        "### **Modeling The ML**"
      ]
    },
    {
      "cell_type": "markdown",
      "metadata": {
        "id": "vfwBh-z_FZk9"
      },
      "source": [
        "#### Ploting Confusion Matrix"
      ]
    },
    {
      "cell_type": "code",
      "metadata": {
        "id": "lYPGKjuzFYEZ"
      },
      "source": [
        "def plot_confusion_matrix(cm, classes,\n",
        "                          normalize=False,\n",
        "                          title='Confusion matrix for Fraud detection',\n",
        "                          cmap='Purples'):\n",
        "    plt.figure(figsize=(10,8))\n",
        "    plt.imshow(cm, interpolation='nearest', cmap=cmap)\n",
        "    plt.title(title)\n",
        "    plt.colorbar()\n",
        "    tick_marks = np.arange(len(classes))\n",
        "    plt.xticks(tick_marks, classes, rotation=45)\n",
        "    plt.yticks(tick_marks, classes)\n",
        "\n",
        "    if normalize:\n",
        "        cm = cm.astype('float') / cm.sum(axis=1)[:, np.newaxis]\n",
        "        print(\"Normalized confusion matrix\")\n",
        "    else:\n",
        "        print('Confusion matrix, without normalization')\n",
        "\n",
        "    thresh = cm.max() / 2.\n",
        "    for i, j in itertools.product(range(cm.shape[0]), range(cm.shape[1])):\n",
        "        plt.text(j, i, cm[i, j],\n",
        "                 horizontalalignment=\"center\",\n",
        "                 color=\"white\" if cm[i, j] > thresh else \"black\")\n",
        "\n",
        "    plt.tight_layout()\n",
        "    plt.ylabel('Actual Cases')\n",
        "    plt.xlabel('Predicted Cases')"
      ],
      "execution_count": 57,
      "outputs": []
    },
    {
      "cell_type": "markdown",
      "metadata": {
        "id": "t9aC1CAvFeNc"
      },
      "source": [
        "#### Develop The ML Modeling"
      ]
    },
    {
      "cell_type": "code",
      "metadata": {
        "id": "Jptf5FW3FAXm"
      },
      "source": [
        "from sklearn.metrics import confusion_matrix,accuracy_score,precision_recall_curve,average_precision_score,roc_auc_score,classification_report\n",
        "import itertools\n",
        "from inspect import signature\n",
        "from sklearn.metrics import r2_score, roc_curve,accuracy_score\n",
        "\n",
        "def modeling(classifier,x_train,y_train,x_test,y_test):\n",
        "  \n",
        "  classifier.fit(x_train, y_train)\n",
        "\n",
        "  # Predicting Testing Results\n",
        "  predicted = classifier.predict(x_test)\n",
        "\n",
        "  #Making the confusion Matrix\n",
        "  cm=confusion_matrix(y_test,predicted)\n",
        "\n",
        "  #Ploting Confusion Matrix\n",
        "  plot_confusion_matrix(cm, classes=['Non-Fraud','Fraud'])\n",
        "  #Making Classification Report\n",
        "  cr = classification_report(y_test,predicted)\n",
        "  print(cr)\n"
      ],
      "execution_count": 37,
      "outputs": []
    },
    {
      "cell_type": "code",
      "metadata": {
        "colab": {
          "base_uri": "https://localhost:8080/"
        },
        "id": "j5NmIH_rHlUH",
        "outputId": "23897ad9-a821-4048-f073-789504acbb2c"
      },
      "source": [
        "data.info()"
      ],
      "execution_count": 43,
      "outputs": [
        {
          "output_type": "stream",
          "text": [
            "<class 'pandas.core.frame.DataFrame'>\n",
            "RangeIndex: 1000 entries, 0 to 999\n",
            "Data columns (total 46 columns):\n",
            " #   Column                                  Non-Null Count  Dtype  \n",
            "---  ------                                  --------------  -----  \n",
            " 0   months_as_customer                      1000 non-null   int64  \n",
            " 1   policy_deductable                       1000 non-null   int64  \n",
            " 2   umbrella_limit                          1000 non-null   int64  \n",
            " 3   capital-gains                           1000 non-null   int64  \n",
            " 4   capital-loss                            1000 non-null   int64  \n",
            " 5   incident_hour_of_the_day                1000 non-null   int64  \n",
            " 6   number_of_vehicles_involved             1000 non-null   int64  \n",
            " 7   bodily_injuries                         1000 non-null   int64  \n",
            " 8   witnesses                               1000 non-null   int64  \n",
            " 9   injury_claim                            1000 non-null   int64  \n",
            " 10  property_claim                          1000 non-null   int64  \n",
            " 11  vehicle_claim                           1000 non-null   int64  \n",
            " 12  policy_csl                              1000 non-null   float64\n",
            " 13  insured_sex                             1000 non-null   int64  \n",
            " 14  insured_education_level                 1000 non-null   int64  \n",
            " 15  incident_severity                       1000 non-null   int64  \n",
            " 16  property_damage                         1000 non-null   int64  \n",
            " 17  police_report_available                 1000 non-null   int64  \n",
            " 18  fraud_reported                          1000 non-null   int64  \n",
            " 19  insured_occupation_armed-forces         1000 non-null   uint8  \n",
            " 20  insured_occupation_craft-repair         1000 non-null   uint8  \n",
            " 21  insured_occupation_exec-managerial      1000 non-null   uint8  \n",
            " 22  insured_occupation_farming-fishing      1000 non-null   uint8  \n",
            " 23  insured_occupation_handlers-cleaners    1000 non-null   uint8  \n",
            " 24  insured_occupation_machine-op-inspct    1000 non-null   uint8  \n",
            " 25  insured_occupation_other-service        1000 non-null   uint8  \n",
            " 26  insured_occupation_priv-house-serv      1000 non-null   uint8  \n",
            " 27  insured_occupation_prof-specialty       1000 non-null   uint8  \n",
            " 28  insured_occupation_protective-serv      1000 non-null   uint8  \n",
            " 29  insured_occupation_sales                1000 non-null   uint8  \n",
            " 30  insured_occupation_tech-support         1000 non-null   uint8  \n",
            " 31  insured_occupation_transport-moving     1000 non-null   uint8  \n",
            " 32  insured_relationship_not-in-family      1000 non-null   uint8  \n",
            " 33  insured_relationship_other-relative     1000 non-null   uint8  \n",
            " 34  insured_relationship_own-child          1000 non-null   uint8  \n",
            " 35  insured_relationship_unmarried          1000 non-null   uint8  \n",
            " 36  insured_relationship_wife               1000 non-null   uint8  \n",
            " 37  incident_type_Parked Car                1000 non-null   uint8  \n",
            " 38  incident_type_Single Vehicle Collision  1000 non-null   uint8  \n",
            " 39  incident_type_Vehicle Theft             1000 non-null   uint8  \n",
            " 40  collision_type_Rear Collision           1000 non-null   uint8  \n",
            " 41  collision_type_Side Collision           1000 non-null   uint8  \n",
            " 42  authorities_contacted_Fire              1000 non-null   uint8  \n",
            " 43  authorities_contacted_None              1000 non-null   uint8  \n",
            " 44  authorities_contacted_Other             1000 non-null   uint8  \n",
            " 45  authorities_contacted_Police            1000 non-null   uint8  \n",
            "dtypes: float64(1), int64(18), uint8(27)\n",
            "memory usage: 174.9 KB\n"
          ],
          "name": "stdout"
        }
      ]
    },
    {
      "cell_type": "markdown",
      "metadata": {
        "id": "AmGH4jO-e3C5"
      },
      "source": [
        "### **Support Vector Classifier**"
      ]
    },
    {
      "cell_type": "code",
      "metadata": {
        "id": "Ib7ivhvZb7TO",
        "colab": {
          "base_uri": "https://localhost:8080/",
          "height": 767
        },
        "outputId": "ba7879b1-10ea-40ce-ed5f-eaf2a039a172"
      },
      "source": [
        "# first using the Support vector classifier for model training\n",
        "from sklearn.svm import SVC\n",
        "\n",
        "modeling(SVC(),x_train,y_train,x_test,y_test)"
      ],
      "execution_count": 58,
      "outputs": [
        {
          "output_type": "stream",
          "text": [
            "Confusion matrix, without normalization\n",
            "              precision    recall  f1-score   support\n",
            "\n",
            "           0       0.76      1.00      0.86       189\n",
            "           1       0.00      0.00      0.00        61\n",
            "\n",
            "    accuracy                           0.76       250\n",
            "   macro avg       0.38      0.50      0.43       250\n",
            "weighted avg       0.57      0.76      0.65       250\n",
            "\n"
          ],
          "name": "stdout"
        },
        {
          "output_type": "display_data",
          "data": {
            "image/png": "[encoded data removed]",
            "text/plain": [
              "<Figure size 720x576 with 2 Axes>"
            ]
          },
          "metadata": {
            "tags": [],
            "needs_background": "light"
          }
        }
      ]
    },
    {
      "cell_type": "markdown",
      "metadata": {
        "id": "CBwO6p_hHOGF"
      },
      "source": [
        "By visualizing the confusion matrix SVC model haven't catogories fraud and non-fraud cases properly. "
      ]
    },
    {
      "cell_type": "code",
      "metadata": {
        "id": "yzdhDrbILekR"
      },
      "source": [
        "from sklearn.svm import SVC\n",
        "classifier=SVC()"
      ],
      "execution_count": 59,
      "outputs": []
    },
    {
      "cell_type": "code",
      "metadata": {
        "id": "Xdfk4_IJLFBR"
      },
      "source": [
        "from sklearn.model_selection import GridSearchCV\n",
        "param_grid = {\"kernel\": ['rbf','sigmoid'],\n",
        "             \"C\":[0.1,0.5,1.0],\n",
        "             \"random_state\":[0,100,200,300]}"
      ],
      "execution_count": 49,
      "outputs": []
    },
    {
      "cell_type": "code",
      "metadata": {
        "id": "u-Ln_9GrLQy8"
      },
      "source": [
        "grid = GridSearchCV(estimator=classifier, param_grid=param_grid, cv=5,  verbose=3)"
      ],
      "execution_count": 50,
      "outputs": []
    },
    {
      "cell_type": "code",
      "metadata": {
        "id": "-Vs06YxDLmXK"
      },
      "source": [
        "grid.fit(x_train,y_train)"
      ],
      "execution_count": null,
      "outputs": []
    },
    {
      "cell_type": "code",
      "metadata": {
        "colab": {
          "base_uri": "https://localhost:8080/"
        },
        "id": "0oIbtwNGLt0X",
        "outputId": "311d1e82-95bd-4a15-c169-5efe5f33bdf0"
      },
      "source": [
        "grid.best_estimator_\n"
      ],
      "execution_count": 53,
      "outputs": [
        {
          "output_type": "execute_result",
          "data": {
            "text/plain": [
              "SVC(C=0.1, break_ties=False, cache_size=200, class_weight=None, coef0=0.0,\n",
              "    decision_function_shape='ovr', degree=3, gamma='scale', kernel='rbf',\n",
              "    max_iter=-1, probability=False, random_state=0, shrinking=True, tol=0.001,\n",
              "    verbose=False)"
            ]
          },
          "metadata": {
            "tags": []
          },
          "execution_count": 53
        }
      ]
    },
    {
      "cell_type": "code",
      "metadata": {
        "colab": {
          "base_uri": "https://localhost:8080/",
          "height": 767
        },
        "id": "eFpvZpakMBTM",
        "outputId": "6a186324-252d-4077-dfe2-e1ce372eaa15"
      },
      "source": [
        "# first using the Support vector classifier for model training\n",
        "from sklearn.svm import SVC\n",
        "\n",
        "modeling(grid.best_estimator_,x_train,y_train,x_test,y_test)"
      ],
      "execution_count": 54,
      "outputs": [
        {
          "output_type": "stream",
          "text": [
            "Confusion matrix, without normalization\n",
            "              precision    recall  f1-score   support\n",
            "\n",
            "           0       0.76      1.00      0.86       189\n",
            "           1       0.00      0.00      0.00        61\n",
            "\n",
            "    accuracy                           0.76       250\n",
            "   macro avg       0.38      0.50      0.43       250\n",
            "weighted avg       0.57      0.76      0.65       250\n",
            "\n"
          ],
          "name": "stdout"
        },
        {
          "output_type": "display_data",
          "data": {
            "image/png": "[encoded data removed]",
            "text/plain": [
              "<Figure size 720x576 with 2 Axes>"
            ]
          },
          "metadata": {
            "tags": [],
            "needs_background": "light"
          }
        }
      ]
    },
    {
      "cell_type": "markdown",
      "metadata": {
        "id": "6lSXGSgEJDAZ"
      },
      "source": [
        "### LogisticRegression"
      ]
    },
    {
      "cell_type": "code",
      "metadata": {
        "colab": {
          "base_uri": "https://localhost:8080/",
          "height": 767
        },
        "id": "guOW2iYBE3Tl",
        "outputId": "f13d2bd2-f20e-457e-f1f7-435169f245e8"
      },
      "source": [
        "from sklearn.linear_model import LogisticRegression\n",
        "modeling(LogisticRegression(),x_train,y_train,x_test,y_test)"
      ],
      "execution_count": 60,
      "outputs": [
        {
          "output_type": "stream",
          "text": [
            "Confusion matrix, without normalization\n",
            "              precision    recall  f1-score   support\n",
            "\n",
            "           0       1.00      0.03      0.06       189\n",
            "           1       0.25      1.00      0.40        61\n",
            "\n",
            "    accuracy                           0.27       250\n",
            "   macro avg       0.62      0.52      0.23       250\n",
            "weighted avg       0.82      0.27      0.14       250\n",
            "\n"
          ],
          "name": "stdout"
        },
        {
          "output_type": "display_data",
          "data": {
            "image/png": "[encoded data removed]",
            "text/plain": [
              "<Figure size 720x576 with 2 Axes>"
            ]
          },
          "metadata": {
            "tags": [],
            "needs_background": "light"
          }
        }
      ]
    },
    {
      "cell_type": "markdown",
      "metadata": {
        "id": "7NIClq1cJHBw"
      },
      "source": [
        "### **XGBoosting Classifier**"
      ]
    },
    {
      "cell_type": "code",
      "metadata": {
        "id": "esockP1tb7h2",
        "colab": {
          "base_uri": "https://localhost:8080/",
          "height": 767
        },
        "outputId": "087088a9-2348-4678-ab24-0a7b549f4966"
      },
      "source": [
        "from xgboost import XGBClassifier\n",
        "modeling(XGBClassifier(random_state = 100),x_train,y_train,x_test,y_test)"
      ],
      "execution_count": 62,
      "outputs": [
        {
          "output_type": "stream",
          "text": [
            "Confusion matrix, without normalization\n",
            "              precision    recall  f1-score   support\n",
            "\n",
            "           0       0.78      0.87      0.82       189\n",
            "           1       0.38      0.25      0.30        61\n",
            "\n",
            "    accuracy                           0.72       250\n",
            "   macro avg       0.58      0.56      0.56       250\n",
            "weighted avg       0.69      0.72      0.70       250\n",
            "\n"
          ],
          "name": "stdout"
        },
        {
          "output_type": "display_data",
          "data": {
            "image/png": "[encoded data removed]",
            "text/plain": [
              "<Figure size 720x576 with 2 Axes>"
            ]
          },
          "metadata": {
            "tags": [],
            "needs_background": "light"
          }
        }
      ]
    },
    {
      "cell_type": "markdown",
      "metadata": {
        "id": "RhuO7OWwJYfY"
      },
      "source": [
        "Out of Logisticclassifier, SVC and XGBoost classifier, XGBoost Classifier worked better than other algorithms."
      ]
    },
    {
      "cell_type": "code",
      "metadata": {
        "id": "SkbPgHfJb7k7"
      },
      "source": [
        "xgb=XGBClassifier()\n",
        "param_grid = {\"n_estimators\": [10, 50, 100, 130], \"criterion\": ['gini', 'entropy'],\n",
        "                               \"max_depth\": range(2, 10, 1)}\n",
        "\n",
        "            #Creating an object of the Grid Search class\n",
        "grid = GridSearchCV(estimator=xgb, param_grid=param_grid, cv=5,  verbose=3,n_jobs=-1)"
      ],
      "execution_count": 55,
      "outputs": []
    },
    {
      "cell_type": "code",
      "metadata": {
        "id": "Wr3ViKkyb7ni",
        "colab": {
          "base_uri": "https://localhost:8080/"
        },
        "outputId": "c48d7e1a-bbec-4696-ac59-7c6cd5f9b3b8"
      },
      "source": [
        "#finding the best parameters\n",
        "grid.fit(x_train,y_train)"
      ],
      "execution_count": 56,
      "outputs": [
        {
          "output_type": "stream",
          "text": [
            "Fitting 5 folds for each of 64 candidates, totalling 320 fits\n"
          ],
          "name": "stdout"
        },
        {
          "output_type": "stream",
          "text": [
            "[Parallel(n_jobs=-1)]: Using backend LokyBackend with 2 concurrent workers.\n",
            "[Parallel(n_jobs=-1)]: Done  28 tasks      | elapsed:    2.8s\n",
            "[Parallel(n_jobs=-1)]: Done 220 tasks      | elapsed:   21.7s\n",
            "[Parallel(n_jobs=-1)]: Done 320 out of 320 | elapsed:   34.5s finished\n"
          ],
          "name": "stderr"
        },
        {
          "output_type": "execute_result",
          "data": {
            "text/plain": [
              "GridSearchCV(cv=5, error_score=nan,\n",
              "             estimator=XGBClassifier(base_score=0.5, booster='gbtree',\n",
              "                                     colsample_bylevel=1, colsample_bynode=1,\n",
              "                                     colsample_bytree=1, gamma=0,\n",
              "                                     learning_rate=0.1, max_delta_step=0,\n",
              "                                     max_depth=3, min_child_weight=1,\n",
              "                                     missing=None, n_estimators=100, n_jobs=1,\n",
              "                                     nthread=None, objective='binary:logistic',\n",
              "                                     random_state=0, reg_alpha=0, reg_lambda=1,\n",
              "                                     scale_pos_weight=1, seed=None, silent=None,\n",
              "                                     subsample=1, verbosity=1),\n",
              "             iid='deprecated', n_jobs=-1,\n",
              "             param_grid={'criterion': ['gini', 'entropy'],\n",
              "                         'max_depth': range(2, 10),\n",
              "                         'n_estimators': [10, 50, 100, 130]},\n",
              "             pre_dispatch='2*n_jobs', refit=True, return_train_score=False,\n",
              "             scoring=None, verbose=3)"
            ]
          },
          "metadata": {
            "tags": []
          },
          "execution_count": 56
        }
      ]
    },
    {
      "cell_type": "code",
      "metadata": {
        "colab": {
          "base_uri": "https://localhost:8080/"
        },
        "id": "-w3TTYIuMvrJ",
        "outputId": "5bd56fec-ea08-4e4a-a7dd-1f6d3b0ef1d7"
      },
      "source": [
        "grid.best_estimator_"
      ],
      "execution_count": 63,
      "outputs": [
        {
          "output_type": "execute_result",
          "data": {
            "text/plain": [
              "XGBClassifier(base_score=0.5, booster='gbtree', colsample_bylevel=1,\n",
              "              colsample_bynode=1, colsample_bytree=1, criterion='gini', gamma=0,\n",
              "              learning_rate=0.1, max_delta_step=0, max_depth=2,\n",
              "              min_child_weight=1, missing=None, n_estimators=10, n_jobs=1,\n",
              "              nthread=None, objective='binary:logistic', random_state=0,\n",
              "              reg_alpha=0, reg_lambda=1, scale_pos_weight=1, seed=None,\n",
              "              silent=None, subsample=1, verbosity=1)"
            ]
          },
          "metadata": {
            "tags": []
          },
          "execution_count": 63
        }
      ]
    },
    {
      "cell_type": "code",
      "metadata": {
        "colab": {
          "base_uri": "https://localhost:8080/",
          "height": 767
        },
        "id": "y78sdWamNbgN",
        "outputId": "f1d1bbd7-6470-4feb-cc7a-2960db2f9bea"
      },
      "source": [
        "from xgboost import XGBClassifier\n",
        "modeling(grid.best_estimator_,x_train,y_train,x_test,y_test)"
      ],
      "execution_count": 64,
      "outputs": [
        {
          "output_type": "stream",
          "text": [
            "Confusion matrix, without normalization\n",
            "              precision    recall  f1-score   support\n",
            "\n",
            "           0       0.91      0.84      0.87       189\n",
            "           1       0.60      0.75      0.67        61\n",
            "\n",
            "    accuracy                           0.82       250\n",
            "   macro avg       0.76      0.80      0.77       250\n",
            "weighted avg       0.84      0.82      0.82       250\n",
            "\n"
          ],
          "name": "stdout"
        },
        {
          "output_type": "display_data",
          "data": {
            "image/png": "[encoded data removed]",
            "text/plain": [
              "<Figure size 720x576 with 2 Axes>"
            ]
          },
          "metadata": {
            "tags": [],
            "needs_background": "light"
          }
        }
      ]
    },
    {
      "cell_type": "markdown",
      "metadata": {
        "id": "mVHeZdzwNpfg"
      },
      "source": [
        "By visualizing the fraud detection- the XGBoost classifier predicts around 15 fraud cases are Non-Fraud cases. This might be a problem So, We will do some more Tuning and find the best parameters to getting good precision and recall."
      ]
    },
    {
      "cell_type": "markdown",
      "metadata": {
        "id": "AciBg0foOryd"
      },
      "source": [
        "### **XGBoosting Hyperparameter-Tunning**"
      ]
    },
    {
      "cell_type": "markdown",
      "metadata": {
        "id": "vBYgcy1yO8JY"
      },
      "source": [
        "#### Grid SearchCV with KFold cross-validation"
      ]
    },
    {
      "cell_type": "code",
      "metadata": {
        "id": "v-aaBlDzOpL3"
      },
      "source": [
        "# Setting the cross validation parameters\n",
        "\n",
        "from sklearn.model_selection import KFold\n",
        "tune_control = KFold(n_splits = 5,\n",
        "                     shuffle = True,\n",
        "                     random_state = 100).split(X = x_train,\n",
        "                                                y = y_train)"
      ],
      "execution_count": 120,
      "outputs": []
    },
    {
      "cell_type": "code",
      "metadata": {
        "id": "6VSa-CG1OpOQ"
      },
      "source": [
        "# Set parameter tuning\n",
        "\n",
        "tune_grid = {'learning_rate': [0.2,0.3,0.4,0.5,0.6],\n",
        "             \"criterion\": ['gini'],\n",
        "               'max_depth': range(0, 4, 1),\n",
        "               'colsample_bytree': [0.5, 1],\n",
        "               'subsample': [1,2,3],\n",
        "               'min_child_weight': [1,2],\n",
        "               'gamma': [0,0.5,1], \n",
        "               'n_estimators': range(5, 20, 1),\n",
        "               'booster': [\"gbtree\"]} \n",
        "classifier = XGBClassifier(objective = \"binary:logistic\")"
      ],
      "execution_count": 121,
      "outputs": []
    },
    {
      "cell_type": "code",
      "metadata": {
        "id": "m7BXItO4OpR4"
      },
      "source": [
        "# Cross Validation Assembly\n",
        "\n",
        "from sklearn.model_selection import GridSearchCV\n",
        "grid_search = GridSearchCV(estimator = classifier,\n",
        "                           param_grid = tune_grid,\n",
        "                            scoring = \"roc_auc\",\n",
        "                            n_jobs = -1,\n",
        "                            cv = tune_control,\n",
        "                            verbose = 5)"
      ],
      "execution_count": 122,
      "outputs": []
    },
    {
      "cell_type": "code",
      "metadata": {
        "colab": {
          "base_uri": "https://localhost:8080/"
        },
        "id": "WO93-dnsOpXu",
        "outputId": "21ad8d01-b798-4c5c-c574-23842e244d14"
      },
      "source": [
        "# Hyperparameter tuning and cross validation\n",
        "tune_model = grid_search.fit(X = x_train,y = y_train)"
      ],
      "execution_count": 125,
      "outputs": [
        {
          "output_type": "stream",
          "text": [
            "Fitting 5 folds for each of 10800 candidates, totalling 54000 fits\n"
          ],
          "name": "stdout"
        },
        {
          "output_type": "stream",
          "text": [
            "[Parallel(n_jobs=-1)]: Using backend LokyBackend with 2 concurrent workers.\n",
            "[Parallel(n_jobs=-1)]: Done  14 tasks      | elapsed:    1.3s\n",
            "[Parallel(n_jobs=-1)]: Done 712 tasks      | elapsed:    5.9s\n",
            "[Parallel(n_jobs=-1)]: Done 2152 tasks      | elapsed:   17.0s\n",
            "[Parallel(n_jobs=-1)]: Done 4168 tasks      | elapsed:   31.9s\n",
            "[Parallel(n_jobs=-1)]: Done 6760 tasks      | elapsed:   51.1s\n",
            "[Parallel(n_jobs=-1)]: Done 9928 tasks      | elapsed:  1.2min\n",
            "[Parallel(n_jobs=-1)]: Done 13672 tasks      | elapsed:  1.7min\n",
            "[Parallel(n_jobs=-1)]: Done 17992 tasks      | elapsed:  2.2min\n",
            "[Parallel(n_jobs=-1)]: Done 22888 tasks      | elapsed:  2.8min\n",
            "[Parallel(n_jobs=-1)]: Done 28360 tasks      | elapsed:  3.5min\n",
            "[Parallel(n_jobs=-1)]: Done 34408 tasks      | elapsed:  4.3min\n",
            "[Parallel(n_jobs=-1)]: Done 41032 tasks      | elapsed:  5.2min\n",
            "[Parallel(n_jobs=-1)]: Done 48232 tasks      | elapsed:  6.1min\n",
            "[Parallel(n_jobs=-1)]: Done 54000 out of 54000 | elapsed:  6.9min finished\n"
          ],
          "name": "stderr"
        }
      ]
    },
    {
      "cell_type": "code",
      "metadata": {
        "colab": {
          "base_uri": "https://localhost:8080/"
        },
        "id": "HAIeAN2HS7dx",
        "outputId": "0ac11552-e67e-41ef-bee2-d9e7299a27c0"
      },
      "source": [
        "tune_model.best_estimator_"
      ],
      "execution_count": 126,
      "outputs": [
        {
          "output_type": "execute_result",
          "data": {
            "text/plain": [
              "XGBClassifier(base_score=0.5, booster='gbtree', colsample_bylevel=1,\n",
              "              colsample_bynode=1, colsample_bytree=1, criterion='gini', gamma=0,\n",
              "              learning_rate=0.4, max_delta_step=0, max_depth=1,\n",
              "              min_child_weight=1, missing=None, n_estimators=14, n_jobs=1,\n",
              "              nthread=None, objective='binary:logistic', random_state=0,\n",
              "              reg_alpha=0, reg_lambda=1, scale_pos_weight=1, seed=None,\n",
              "              silent=None, subsample=1, verbosity=1)"
            ]
          },
          "metadata": {
            "tags": []
          },
          "execution_count": 126
        }
      ]
    },
    {
      "cell_type": "code",
      "metadata": {
        "colab": {
          "base_uri": "https://localhost:8080/",
          "height": 767
        },
        "id": "edxIjSNsS7gB",
        "outputId": "32cba1e0-f798-4219-ebd3-99bd5496a04a"
      },
      "source": [
        "from xgboost import XGBClassifier\n",
        "modeling(tune_model.best_estimator_,x_train,y_train,x_test,y_test)"
      ],
      "execution_count": 127,
      "outputs": [
        {
          "output_type": "stream",
          "text": [
            "Confusion matrix, without normalization\n",
            "              precision    recall  f1-score   support\n",
            "\n",
            "           0       0.91      0.84      0.87       189\n",
            "           1       0.60      0.75      0.67        61\n",
            "\n",
            "    accuracy                           0.82       250\n",
            "   macro avg       0.76      0.80      0.77       250\n",
            "weighted avg       0.84      0.82      0.82       250\n",
            "\n"
          ],
          "name": "stdout"
        },
        {
          "output_type": "display_data",
          "data": {
            "image/png": "[encoded data removed]",
            "text/plain": [
              "<Figure size 720x576 with 2 Axes>"
            ]
          },
          "metadata": {
            "tags": [],
            "needs_background": "light"
          }
        }
      ]
    },
    {
      "cell_type": "markdown",
      "metadata": {
        "id": "2C4sEsfPNm7p"
      },
      "source": [
        "### After hyperparameter tuning, we could able to get good precision and recall."
      ]
    },
    {
      "cell_type": "code",
      "metadata": {
        "id": "afNXtpnHS7i3"
      },
      "source": [
        ""
      ],
      "execution_count": null,
      "outputs": []
    },
    {
      "cell_type": "code",
      "metadata": {
        "id": "awIqpabmS7lI"
      },
      "source": [
        ""
      ],
      "execution_count": null,
      "outputs": []
    },
    {
      "cell_type": "code",
      "metadata": {
        "id": "zeaJjZwrS7or"
      },
      "source": [
        ""
      ],
      "execution_count": null,
      "outputs": []
    }
  ]
}